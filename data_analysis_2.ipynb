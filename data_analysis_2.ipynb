{
  "nbformat": 4,
  "nbformat_minor": 0,
  "metadata": {
    "colab": {
      "name": "data_analysis_2.ipynb",
      "provenance": [],
      "collapsed_sections": [],
      "toc_visible": true,
      "authorship_tag": "ABX9TyOXaXRY8DWLvlRpjagkpVcM",
      "include_colab_link": true
    },
    "kernelspec": {
      "name": "python3",
      "display_name": "Python 3"
    }
  },
  "cells": [
    {
      "cell_type": "markdown",
      "metadata": {
        "id": "view-in-github",
        "colab_type": "text"
      },
      "source": [
        "<a href=\"https://colab.research.google.com/github/sendrosa/ponzi_ethereum/blob/main/data_analysis_2.ipynb\" target=\"_parent\"><img src=\"https://colab.research.google.com/assets/colab-badge.svg\" alt=\"Open In Colab\"/></a>"
      ]
    },
    {
      "cell_type": "markdown",
      "metadata": {
        "id": "UBbLHBKDYoUW"
      },
      "source": [
        "# Feature for Opcode and Size of Opcode\r\n",
        "\r\n",
        "We create a function that append a column with the Opcode. Opcode created from the bytecode. The correspondence is derived from the values corresponding to the machine commands in a hexadecimal number (opcode variable). We also remove the memory locations that in this case do not concern us.\r\n",
        "Finally we add a column in which we save the size of the contract."
      ]
    },
    {
      "cell_type": "code",
      "metadata": {
        "id": "nX4OhiH0YpUc"
      },
      "source": [
        "import csv\r\n",
        "import pandas as pd\r\n",
        "import sys\r\n",
        "\r\n",
        "csv.field_size_limit(sys.maxsize)\r\n",
        "\r\n",
        "opcodes = {\r\n",
        "    '00' : 'STOP',\r\n",
        "    '01' : 'ADD',\r\n",
        "    '02' : 'MUL',\r\n",
        "    '03' : 'SUB',\r\n",
        "    '04' : 'DIV',\r\n",
        "    '05' : 'SDIV',\r\n",
        "    '06' : 'MOD',\r\n",
        "    '07' : 'SMOD',\r\n",
        "    '08' : 'ADDMOD',\r\n",
        "    '09' : 'MULMOD',\r\n",
        "    '0a' : 'EXP',\r\n",
        "    '0b' : 'SIGNEXTEND',\r\n",
        "    '10' : 'LT',\r\n",
        "    '11' : 'GT',\r\n",
        "    '12' : 'SLT',\r\n",
        "    '13' : 'SGT',\r\n",
        "    '14' : 'EQ',\r\n",
        "    '15' : 'ISZERO',\r\n",
        "    '16' : 'AND',\r\n",
        "    '17' : 'OR', # 'EVMOR'\r\n",
        "    '18' : 'XOR',\r\n",
        "    '19' : 'NOT',\r\n",
        "    '1a' : 'BYTE',\r\n",
        "    '1b' : 'SHL',\r\n",
        "    '1c' : 'SHR',\r\n",
        "    '1d' : 'SAR',\r\n",
        "    '20' : 'SHA3',\r\n",
        "    '30' : 'ADDRESS',\r\n",
        "    '31' : 'BALANCE',\r\n",
        "    '32' : 'ORIGIN',\r\n",
        "    '33' : 'CALLER',\r\n",
        "    '34' : 'CALLVALUE',\r\n",
        "    '35' : 'CALLDATALOAD',\r\n",
        "    '36' : 'CALLDATASIZE',\r\n",
        "    '37' : 'CALLDATACOPY',\r\n",
        "    '38' : 'CODESIZE',\r\n",
        "    '39' : 'CODECOPY',\r\n",
        "    '3a' : 'GASPRICE',\r\n",
        "    '3b' : 'EXTCODESIZE',\r\n",
        "    '3c' : 'EXTCODECOPY',\r\n",
        "    '3d' : 'RETURNDATASIZE',\r\n",
        "    '3e' : 'RETURNDATACOPY',\r\n",
        "    '3f' : 'EXTCODEHASH',\r\n",
        "    '40' : 'BLOCKHASH',\r\n",
        "    '41' : 'COINBASE',\r\n",
        "    '42' : 'TIMESTAMP',\r\n",
        "    '43' : 'NUMBER',\r\n",
        "    '44' : 'DIFFICULTY',\r\n",
        "    '45' : 'GASLIMIT',\r\n",
        "    '50' : 'POP',\r\n",
        "    '51' : 'MLOAD',\r\n",
        "    '52' : 'MSTORE',\r\n",
        "    '53' : 'MSTORE8',\r\n",
        "    '54' : 'SLOAD',\r\n",
        "    '55' : 'SSTORE',\r\n",
        "    '56' : 'JUMP',\r\n",
        "    '57' : 'JUMPI',\r\n",
        "    '58' : 'PC',\r\n",
        "    '59' : 'MSIZE',\r\n",
        "    '5a' : 'GAS',\r\n",
        "    '5b' : 'JUMPDEST',\r\n",
        "    '60' : 'PUSH1',\r\n",
        "    '61' : 'PUSH2',\r\n",
        "    '62' : 'PUSH3',\r\n",
        "    '63' : 'PUSH4',\r\n",
        "    '64' : 'PUSH5',\r\n",
        "    '65' : 'PUSH6',\r\n",
        "    '66' : 'PUSH7',\r\n",
        "    '67' : 'PUSH8',\r\n",
        "    '68' : 'PUSH9',\r\n",
        "    '69' : 'PUSH10',\r\n",
        "    '6a' : 'PUSH11',\r\n",
        "    '6b' : 'PUSH12',\r\n",
        "    '6c' : 'PUSH13',\r\n",
        "    '6d' : 'PUSH14',\r\n",
        "    '6e' : 'PUSH15',\r\n",
        "    '6f' : 'PUSH16',\r\n",
        "    '70' : 'PUSH17',\r\n",
        "    '71' : 'PUSH18',\r\n",
        "    '72' : 'PUSH19',\r\n",
        "    '73' : 'PUSH20',\r\n",
        "    '74' : 'PUSH21',\r\n",
        "    '75' : 'PUSH22',\r\n",
        "    '76' : 'PUSH23',\r\n",
        "    '77' : 'PUSH24',\r\n",
        "    '78' : 'PUSH25',\r\n",
        "    '79' : 'PUSH26',\r\n",
        "    '7a' : 'PUSH27',\r\n",
        "    '7b' : 'PUSH28',\r\n",
        "    '7c' : 'PUSH29',\r\n",
        "    '7d' : 'PUSH30',\r\n",
        "    '7e' : 'PUSH31',\r\n",
        "    '7f' : 'PUSH32',\r\n",
        "    '80' : 'DUP1',\r\n",
        "    '81' : 'DUP2',\r\n",
        "    '82' : 'DUP3',\r\n",
        "    '83' : 'DUP4',\r\n",
        "    '84' : 'DUP5',\r\n",
        "    '85' : 'DUP6',\r\n",
        "    '86' : 'DUP7',\r\n",
        "    '87' : 'DUP8',\r\n",
        "    '88' : 'DUP9',\r\n",
        "    '89' : 'DUP10',\r\n",
        "    '8a' : 'DUP11',\r\n",
        "    '8b' : 'DUP12',\r\n",
        "    '8c' : 'DUP13',\r\n",
        "    '8d' : 'DUP14',\r\n",
        "    '8e' : 'DUP15',\r\n",
        "    '8f' : 'DUP16',\r\n",
        "    '90' : 'SWAP1',\r\n",
        "    '91' : 'SWAP2',\r\n",
        "    '92' : 'SWAP3',\r\n",
        "    '93' : 'SWAP4',\r\n",
        "    '94' : 'SWAP5',\r\n",
        "    '95' : 'SWAP6',\r\n",
        "    '96' : 'SWAP7',\r\n",
        "    '97' : 'SWAP8',\r\n",
        "    '98' : 'SWAP9',\r\n",
        "    '99' : 'SWAP10',\r\n",
        "    '9a' : 'SWAP11',\r\n",
        "    '9b' : 'SWAP12',\r\n",
        "    '9c' : 'SWAP13',\r\n",
        "    '9d' : 'SWAP14',\r\n",
        "    '9e' : 'SWAP15',\r\n",
        "    '9f' : 'SWAP16',\r\n",
        "    'a0' : 'LOG0',\r\n",
        "    'a1' : 'LOG1',\r\n",
        "    'a2' : 'LOG2',\r\n",
        "    'a3' : 'LOG3',\r\n",
        "    'a4' : 'LOG4',\r\n",
        "    'f0' : 'CREATE',\r\n",
        "    'f1' : 'CALL',\r\n",
        "    'f2' : 'CALLCODE',\r\n",
        "    'f3' : 'RETURN',\r\n",
        "    'f4' : 'DELEGATECALL',\r\n",
        "    'f5' : 'CREATE2',\r\n",
        "    'fa' : 'STATICCALL',\r\n",
        "    'fd' : 'REVERT',\r\n",
        "    'fe' : 'INVALID',\r\n",
        "    'ff' : 'SELFDESTRUCT',\r\n",
        "#   'ff' : 'SUICIDE',\r\n",
        "}\r\n",
        "\r\n",
        "OPC = [\r\n",
        "    'STOP',\r\n",
        "    'ADD',\r\n",
        "    'MUL',\r\n",
        "    'SUB',\r\n",
        "    'DIV',\r\n",
        "    'SDIV',\r\n",
        "    'MOD',\r\n",
        "    'SMOD',\r\n",
        "    'ADDMOD',\r\n",
        "    'MULMOD',\r\n",
        "    'EXP',\r\n",
        "    'SIGNEXTEND',\r\n",
        "    'LT',\r\n",
        "    'GT',\r\n",
        "    'SLT',\r\n",
        "     'SGT',\r\n",
        "     'EQ',\r\n",
        "     'ISZERO',\r\n",
        "     'AND',\r\n",
        "     'OR',\r\n",
        "     'XOR',\r\n",
        "    'NOT',\r\n",
        "     'BYTE',\r\n",
        "    'SHL',\r\n",
        "     'SHR',\r\n",
        "    'SAR',\r\n",
        "     'SHA3',\r\n",
        "    'ADDRESS',\r\n",
        "    'BALANCE',\r\n",
        "     'ORIGIN',\r\n",
        "    'CALLER',\r\n",
        "     'CALLVALUE',\r\n",
        "     'CALLDATALOAD',\r\n",
        "     'CALLDATASIZE',\r\n",
        "     'CALLDATACOPY',\r\n",
        "     'CODESIZE',\r\n",
        "    'CODECOPY',\r\n",
        "     'GASPRICE',\r\n",
        "    'EXTCODESIZE',\r\n",
        "    'EXTCODECOPY',\r\n",
        "    'RETURNDATASIZE',\r\n",
        "    'RETURNDATACOPY',\r\n",
        "  'EXTCODEHASH',\r\n",
        "     'BLOCKHASH',\r\n",
        "     'COINBASE',\r\n",
        "   'TIMESTAMP',\r\n",
        "    'NUMBER',\r\n",
        "     'DIFFICULTY',\r\n",
        "    'GASLIMIT',\r\n",
        "    'POP',\r\n",
        "    'MLOAD',\r\n",
        "    'MSTORE',\r\n",
        "    'MSTORE8',\r\n",
        "     'SLOAD',\r\n",
        "    'SSTORE',\r\n",
        "   'JUMP',\r\n",
        "     'JUMPI',\r\n",
        "    'PC',\r\n",
        "     'MSIZE',\r\n",
        "   'GAS',\r\n",
        "     'JUMPDEST',\r\n",
        "  #   'PUSH1',\r\n",
        "  #   'PUSH2',\r\n",
        "  #  'PUSH3',\r\n",
        "  #   'PUSH4',\r\n",
        "  #   'PUSH5',\r\n",
        "  #   'PUSH6',\r\n",
        "  #   'PUSH7',\r\n",
        "  #    'PUSH8',\r\n",
        "  #    'PUSH9',\r\n",
        "  #    'PUSH10',\r\n",
        "  #    'PUSH11',\r\n",
        "  #    'PUSH12',\r\n",
        "  #   'PUSH13',\r\n",
        "  #    'PUSH14',\r\n",
        "  #    'PUSH15',\r\n",
        "  #    'PUSH16',\r\n",
        "  #    'PUSH17',\r\n",
        "  #   'PUSH18',\r\n",
        "  #    'PUSH19',\r\n",
        "  #    'PUSH20',\r\n",
        "  #    'PUSH21',\r\n",
        "  #    'PUSH22',\r\n",
        "  #    'PUSH23',\r\n",
        "  #    'PUSH24',\r\n",
        "  #    'PUSH25',\r\n",
        "  #    'PUSH26',\r\n",
        "  #    'PUSH27',\r\n",
        "  #    'PUSH28',\r\n",
        "  #    'PUSH29',\r\n",
        "  #   'PUSH30',\r\n",
        "  #   'PUSH31',\r\n",
        "  #    'PUSH32',\r\n",
        "  #    'DUP1',\r\n",
        "  #    'DUP2',\r\n",
        "  #    'DUP3',\r\n",
        "  #   'DUP4',\r\n",
        "  #   'DUP5',\r\n",
        "  #    'DUP6',\r\n",
        "  #    'DUP7',\r\n",
        "  #    'DUP8',\r\n",
        "  #    'DUP9',\r\n",
        "  #    'DUP10',\r\n",
        "  #    'DUP11',\r\n",
        "  #    'DUP12',\r\n",
        "  #    'DUP13',\r\n",
        "  #    'DUP14',\r\n",
        "  #    'DUP15',\r\n",
        "  #    'DUP16',\r\n",
        "  #    'SWAP1',\r\n",
        "  #    'SWAP2',\r\n",
        "  #    'SWAP3',\r\n",
        "  #    'SWAP4',\r\n",
        "  #    'SWAP5',\r\n",
        "  #    'SWAP6',\r\n",
        "  #    'SWAP7',\r\n",
        "  #    'SWAP8',\r\n",
        "  #   'SWAP9',\r\n",
        "  #    'SWAP10',\r\n",
        "  #    'SWAP11',\r\n",
        "  #    'SWAP12',\r\n",
        "  #    'SWAP13',\r\n",
        "  #    'SWAP14',\r\n",
        "  #    'SWAP15',\r\n",
        "  #    'SWAP16',\r\n",
        "     'LOG0',\r\n",
        "     'LOG1',\r\n",
        "     'LOG2',\r\n",
        "     'LOG3',\r\n",
        "     'LOG4',\r\n",
        "     'CREATE',\r\n",
        "     'CALL',\r\n",
        "     'CALLCODE',\r\n",
        "     'RETURN',\r\n",
        "     'DELEGATECALL',\r\n",
        "     'CREATE2',\r\n",
        "    'STATICCALL',\r\n",
        "     'REVERT',\r\n",
        "     'INVALID',\r\n",
        "     'SELFDESTRUCT']\r\n",
        "\r\n",
        "def push_bytes(h, mode):\r\n",
        "    i = str(int(h, 16))\r\n",
        "    return {\r\n",
        "        'hex'     :           '0x' + h  ,\r\n",
        "        'int'     : i                   ,\r\n",
        "        'int:hex' : i + ':' + '0x' + h  ,\r\n",
        "    }[mode]\r\n",
        "\r\n",
        "def pc(cnt, size):\r\n",
        "    return '[' + str(cnt).zfill(size) + ']'\r\n",
        "\r\n",
        "# Decode ByteCodes to Opcodes\r\n",
        "def decode(hexcode, mode):\r\n",
        "    size = len(str(len(hexcode)))\r\n",
        "    h = ''\r\n",
        "    o = ''\r\n",
        "    pushcnt = 0\r\n",
        "    cnt = -1\r\n",
        "    for item in hexcode:\r\n",
        "        cnt += 1\r\n",
        "        if pushcnt > 0:\r\n",
        "            h += item.lower()\r\n",
        "            pushcnt -= 1\r\n",
        "            if pushcnt == 0:\r\n",
        "                i = str(int(h, 16))\r\n",
        "                o += push_bytes(h, mode) + '\\n'\r\n",
        "                h = ''\r\n",
        "        elif isinstance(item, str) and item.lower() in opcodes:\r\n",
        "            o += pc(cnt, size) + ' ' + item.lower() + ' ' + opcodes[item.lower()]\r\n",
        "            if int('60', 16) <= int(item, 16) <= int('7f', 16):\r\n",
        "                pushcnt = int(item, 16) - int('60', 16) + 1\r\n",
        "                o += ' '\r\n",
        "            else:\r\n",
        "                o += '\\n'\r\n",
        "        else:\r\n",
        "            o += pc(cnt, size) + ' ' + item.lower() + ' ERROR\\n'\r\n",
        "#           raise Exception(\"Invalid opcode: \" + str(item))\r\n",
        "    if h:\r\n",
        "        o += 'ERROR ' + push_bytes(h, mode) + ' (' + str(pushcnt) + ' bytes missed)\\n'\r\n",
        "#       raise Exception(\"Not enough push bytes: \" + h)\r\n",
        "    return o.strip()\r\n",
        "\r\n",
        "with open('labeled_contract_info.csv','r') as csvinput:\r\n",
        "    with open('labeled_contract_info_append.csv', 'w') as csvoutput:\r\n",
        "        writer = csv.writer(csvoutput)\r\n",
        "        reader = csv.reader(csvinput)\r\n",
        "\r\n",
        "        row = next(reader)\r\n",
        "        row.append('Opcode')\r\n",
        "        row.append('Size')\r\n",
        "        writer.writerow(row)\r\n",
        "\r\n",
        "        for row in reader:\r\n",
        "            hexcode=str(row[8])\r\n",
        "            opcode =(decode([hexcode[i:i+2] for i in range(2, len(hexcode)-1, 2)], 'int:hex'))\r\n",
        "            opcode=opcode.split()\r\n",
        "            resultwords  = [word for word in opcode if word in OPC]\r\n",
        "            result = ' '.join(resultwords)\r\n",
        "            row.append(result)\r\n",
        "            row.append(len(hexcode))\r\n",
        "            writer.writerow(row)"
      ],
      "execution_count": null,
      "outputs": []
    },
    {
      "cell_type": "markdown",
      "metadata": {
        "id": "-05fXrZVX5J-"
      },
      "source": [
        "#Code counter\r\n",
        "We find the use of orders depending on the contract."
      ]
    },
    {
      "cell_type": "code",
      "metadata": {
        "id": "CSfCyCOqeMVg"
      },
      "source": [
        "from collections import Counter \r\n",
        "\r\n",
        "with open('labeled_contract_info_append.csv','r') as csvinput:\r\n",
        "    with open('labeled_contract_info_append_new.csv', 'w') as csvoutput:\r\n",
        "        writer = csv.writer(csvoutput)\r\n",
        "        reader = csv.reader(csvinput)\r\n",
        "\r\n",
        "        row = next(reader)\r\n",
        "        row.append('fr_opcode')\r\n",
        "        row.append('opc_split')\r\n",
        "\r\n",
        "        writer.writerow(row)\r\n",
        "\r\n",
        "        for row in reader:\r\n",
        "          data_set=row[10]\r\n",
        "          split_it = data_set.split() \r\n",
        "          count = Counter(split_it) \r\n",
        "          row.append(Counter({key: count[key] for key in count if key in OPC}).most_common(10))\r\n",
        "          row.append(split_it)\r\n",
        "          writer.writerow(row)      "
      ],
      "execution_count": null,
      "outputs": []
    },
    {
      "cell_type": "markdown",
      "metadata": {
        "id": "o9OM_gIIYZNs"
      },
      "source": [
        "#CSV preview"
      ]
    },
    {
      "cell_type": "code",
      "metadata": {
        "colab": {
          "base_uri": "https://localhost:8080/",
          "height": 581
        },
        "id": "0lJ8dxyQarwX",
        "outputId": "4969f509-3a8e-463d-9cbb-7fd33408959c"
      },
      "source": [
        "import pandas as pd\r\n",
        "pd.plotting.register_matplotlib_converters()\r\n",
        "import matplotlib.pyplot as plt\r\n",
        "%matplotlib inline\r\n",
        "import seaborn as sns\r\n",
        "print(\"Setup Complete\")\r\n",
        "\r\n",
        "filepath = \"labeled_contract_info_append_new.csv\"\r\n",
        "data = pd.read_csv(filepath)\r\n",
        "data.head(5)\r\n",
        "\r\n"
      ],
      "execution_count": null,
      "outputs": [
        {
          "output_type": "stream",
          "text": [
            "Setup Complete\n"
          ],
          "name": "stdout"
        },
        {
          "output_type": "execute_result",
          "data": {
            "text/html": [
              "<div>\n",
              "<style scoped>\n",
              "    .dataframe tbody tr th:only-of-type {\n",
              "        vertical-align: middle;\n",
              "    }\n",
              "\n",
              "    .dataframe tbody tr th {\n",
              "        vertical-align: top;\n",
              "    }\n",
              "\n",
              "    .dataframe thead th {\n",
              "        text-align: right;\n",
              "    }\n",
              "</style>\n",
              "<table border=\"1\" class=\"dataframe\">\n",
              "  <thead>\n",
              "    <tr style=\"text-align: right;\">\n",
              "      <th></th>\n",
              "      <th>address</th>\n",
              "      <th>createdBlockNumber</th>\n",
              "      <th>createdTimestamp</th>\n",
              "      <th>createdTransactionHash</th>\n",
              "      <th>creator</th>\n",
              "      <th>creatorIsContract</th>\n",
              "      <th>createValue</th>\n",
              "      <th>creationCode</th>\n",
              "      <th>contractCode</th>\n",
              "      <th>flag</th>\n",
              "      <th>Opcode</th>\n",
              "      <th>Size</th>\n",
              "      <th>fr_opcode</th>\n",
              "      <th>opc_split</th>\n",
              "    </tr>\n",
              "  </thead>\n",
              "  <tbody>\n",
              "    <tr>\n",
              "      <th>0</th>\n",
              "      <td>0x6e38a457c722c6011b2dfa06d49240e797844d66</td>\n",
              "      <td>49880</td>\n",
              "      <td>1438980507</td>\n",
              "      <td>0xde920d165a8a3352156327edb7125e699cee116d8206...</td>\n",
              "      <td>0x7e7ec15a5944e978257ddae0008c2f2ece0a6090</td>\n",
              "      <td>0</td>\n",
              "      <td>0.0</td>\n",
              "      <td>0x60606040526103a7806100136000396000f300606060...</td>\n",
              "      <td>0x60606040526000357c01000000000000000000000000...</td>\n",
              "      <td>0</td>\n",
              "      <td>MSTORE CALLDATALOAD DIV EQ JUMPI EQ JUMPI EQ J...</td>\n",
              "      <td>1873</td>\n",
              "      <td>[('POP', 60), ('ADD', 50), ('JUMPDEST', 27), (...</td>\n",
              "      <td>['MSTORE', 'CALLDATALOAD', 'DIV', 'EQ', 'JUMPI...</td>\n",
              "    </tr>\n",
              "    <tr>\n",
              "      <th>1</th>\n",
              "      <td>0x109c4f2ccc82c4d77bde15f306707320294aea3f</td>\n",
              "      <td>49924</td>\n",
              "      <td>1438981410</td>\n",
              "      <td>0xb8f2ff00ccd2db351281cff6da5dd47b4d6c87e851ff...</td>\n",
              "      <td>0x881b0a4e9c55d08e31d8d3c022144d75a454211c</td>\n",
              "      <td>0</td>\n",
              "      <td>0.0</td>\n",
              "      <td>0x60606040526000805560038054600680835591908290...</td>\n",
              "      <td>0x6060604052361561001f5760e060020a600035046372...</td>\n",
              "      <td>1</td>\n",
              "      <td>MSTORE CALLDATASIZE ISZERO JUMPI EXP CALLDATAL...</td>\n",
              "      <td>1535</td>\n",
              "      <td>[('POP', 34), ('SLOAD', 29), ('ADD', 28), ('JU...</td>\n",
              "      <td>['MSTORE', 'CALLDATASIZE', 'ISZERO', 'JUMPI', ...</td>\n",
              "    </tr>\n",
              "    <tr>\n",
              "      <th>2</th>\n",
              "      <td>0x793ae8c1b1a160bfc07bfb0d04f85eab1a71f4f2</td>\n",
              "      <td>63809</td>\n",
              "      <td>1439210480</td>\n",
              "      <td>0x258a93bf65790447d671ba836ca522fecd0f8034bfda...</td>\n",
              "      <td>0xc8ebccc5f5689fa8659d83713341e5ad19349448</td>\n",
              "      <td>0</td>\n",
              "      <td>0.0</td>\n",
              "      <td>0x60606040525b662386f26fc100006000600050819055...</td>\n",
              "      <td>0x60606040526000357c01000000000000000000000000...</td>\n",
              "      <td>0</td>\n",
              "      <td>MSTORE CALLDATALOAD DIV EQ JUMPI JUMP JUMPDEST...</td>\n",
              "      <td>657</td>\n",
              "      <td>[('POP', 20), ('JUMPDEST', 8), ('MSTORE', 6), ...</td>\n",
              "      <td>['MSTORE', 'CALLDATALOAD', 'DIV', 'EQ', 'JUMPI...</td>\n",
              "    </tr>\n",
              "    <tr>\n",
              "      <th>3</th>\n",
              "      <td>0x5fe5b7546d1628f7348b023a0393de1fc825a4fd</td>\n",
              "      <td>66126</td>\n",
              "      <td>1439249180</td>\n",
              "      <td>0x8478eedb4b0a7309de241b4da8311c6e0b91405bd4cd...</td>\n",
              "      <td>0xa14cf6cec1c6aae4b608458f6e14692863a937aa</td>\n",
              "      <td>0</td>\n",
              "      <td>0.0</td>\n",
              "      <td>0x610100604052607560608190527f0a2d2d2d2d2d2d2d...</td>\n",
              "      <td>0x606060405236156100615760e060020a60003504631c...</td>\n",
              "      <td>0</td>\n",
              "      <td>MSTORE CALLDATASIZE ISZERO JUMPI EXP CALLDATAL...</td>\n",
              "      <td>4065</td>\n",
              "      <td>[('POP', 91), ('ADD', 56), ('MSTORE', 51), ('J...</td>\n",
              "      <td>['MSTORE', 'CALLDATASIZE', 'ISZERO', 'JUMPI', ...</td>\n",
              "    </tr>\n",
              "    <tr>\n",
              "      <th>4</th>\n",
              "      <td>0x273930d21e01ee25e4c219b63259d214872220a2</td>\n",
              "      <td>116526</td>\n",
              "      <td>1440088809</td>\n",
              "      <td>0x3010140fbe38c0af0cc1020a82f4c1cac76f5cbb34ab...</td>\n",
              "      <td>0xb1a2b43a7433dd150bb82227ed519cd6b142d382</td>\n",
              "      <td>0</td>\n",
              "      <td>0.0</td>\n",
              "      <td>0x60606040526002610108600050556040516110e53803...</td>\n",
              "      <td>0x606060405236156100da5760e060020a600035046317...</td>\n",
              "      <td>0</td>\n",
              "      <td>MSTORE CALLDATASIZE ISZERO JUMPI EXP CALLDATAL...</td>\n",
              "      <td>8065</td>\n",
              "      <td>[('POP', 172), ('ADD', 122), ('JUMPDEST', 105)...</td>\n",
              "      <td>['MSTORE', 'CALLDATASIZE', 'ISZERO', 'JUMPI', ...</td>\n",
              "    </tr>\n",
              "  </tbody>\n",
              "</table>\n",
              "</div>"
            ],
            "text/plain": [
              "                                      address  ...                                          opc_split\n",
              "0  0x6e38a457c722c6011b2dfa06d49240e797844d66  ...  ['MSTORE', 'CALLDATALOAD', 'DIV', 'EQ', 'JUMPI...\n",
              "1  0x109c4f2ccc82c4d77bde15f306707320294aea3f  ...  ['MSTORE', 'CALLDATASIZE', 'ISZERO', 'JUMPI', ...\n",
              "2  0x793ae8c1b1a160bfc07bfb0d04f85eab1a71f4f2  ...  ['MSTORE', 'CALLDATALOAD', 'DIV', 'EQ', 'JUMPI...\n",
              "3  0x5fe5b7546d1628f7348b023a0393de1fc825a4fd  ...  ['MSTORE', 'CALLDATASIZE', 'ISZERO', 'JUMPI', ...\n",
              "4  0x273930d21e01ee25e4c219b63259d214872220a2  ...  ['MSTORE', 'CALLDATASIZE', 'ISZERO', 'JUMPI', ...\n",
              "\n",
              "[5 rows x 14 columns]"
            ]
          },
          "metadata": {
            "tags": []
          },
          "execution_count": 18
        }
      ]
    },
    {
      "cell_type": "markdown",
      "metadata": {
        "id": "TCGIdr58_PL2"
      },
      "source": [
        "#N-word\r\n",
        "We are trying to find the best n for n-word algorithm"
      ]
    },
    {
      "cell_type": "code",
      "metadata": {
        "colab": {
          "base_uri": "https://localhost:8080/",
          "height": 359
        },
        "id": "9KnGo0TImqrv",
        "outputId": "202452da-21c8-4f6f-c325-8282eff13167"
      },
      "source": [
        "from sklearn.feature_extraction.text import CountVectorizer\r\n",
        "\r\n",
        "vectorizer = CountVectorizer(stop_words=\"english\", max_df=0.8, min_df=7, ngram_range=(1, 4))\r\n",
        "vectorizer.fit(data[\"Opcode\"])\r\n",
        "\r\n",
        "flag_counts = {}\r\n",
        "words = vectorizer.get_feature_names()\r\n",
        "for y in [0, 1]:\r\n",
        "    vectors = vectorizer.transform(data[\"Opcode\"][data[\"flag\"] == y])\r\n",
        "    counts = vectors.toarray().sum(axis=0)\r\n",
        "    word_counts = {}\r\n",
        "    for i in range(len(words)):\r\n",
        "        word_counts[words[i]] = counts[i]\r\n",
        "    flag_counts[y] = word_counts\r\n",
        "\r\n",
        "most_common_words = pd.DataFrame(flag_counts)\r\n",
        "most_common_words.sort_values(by=[0], ascending=False).head(10)\r\n",
        "\r\n"
      ],
      "execution_count": null,
      "outputs": [
        {
          "output_type": "execute_result",
          "data": {
            "text/html": [
              "<div>\n",
              "<style scoped>\n",
              "    .dataframe tbody tr th:only-of-type {\n",
              "        vertical-align: middle;\n",
              "    }\n",
              "\n",
              "    .dataframe tbody tr th {\n",
              "        vertical-align: top;\n",
              "    }\n",
              "\n",
              "    .dataframe thead th {\n",
              "        text-align: right;\n",
              "    }\n",
              "</style>\n",
              "<table border=\"1\" class=\"dataframe\">\n",
              "  <thead>\n",
              "    <tr style=\"text-align: right;\">\n",
              "      <th></th>\n",
              "      <th>0</th>\n",
              "      <th>1</th>\n",
              "    </tr>\n",
              "  </thead>\n",
              "  <tbody>\n",
              "    <tr>\n",
              "      <th>mstore sha3</th>\n",
              "      <td>35088</td>\n",
              "      <td>863</td>\n",
              "    </tr>\n",
              "    <tr>\n",
              "      <th>mstore mstore sha3</th>\n",
              "      <td>23087</td>\n",
              "      <td>431</td>\n",
              "    </tr>\n",
              "    <tr>\n",
              "      <th>invalid</th>\n",
              "      <td>22687</td>\n",
              "      <td>709</td>\n",
              "    </tr>\n",
              "    <tr>\n",
              "      <th>invalid jumpdest</th>\n",
              "      <td>22600</td>\n",
              "      <td>702</td>\n",
              "    </tr>\n",
              "    <tr>\n",
              "      <th>jumpi invalid</th>\n",
              "      <td>22277</td>\n",
              "      <td>702</td>\n",
              "    </tr>\n",
              "    <tr>\n",
              "      <th>jumpi invalid jumpdest</th>\n",
              "      <td>22277</td>\n",
              "      <td>702</td>\n",
              "    </tr>\n",
              "    <tr>\n",
              "      <th>return jumpdest callvalue</th>\n",
              "      <td>20931</td>\n",
              "      <td>655</td>\n",
              "    </tr>\n",
              "    <tr>\n",
              "      <th>iszero jumpi invalid</th>\n",
              "      <td>20672</td>\n",
              "      <td>629</td>\n",
              "    </tr>\n",
              "    <tr>\n",
              "      <th>iszero jumpi invalid jumpdest</th>\n",
              "      <td>20672</td>\n",
              "      <td>629</td>\n",
              "    </tr>\n",
              "    <tr>\n",
              "      <th>sha3 sload</th>\n",
              "      <td>20297</td>\n",
              "      <td>469</td>\n",
              "    </tr>\n",
              "  </tbody>\n",
              "</table>\n",
              "</div>"
            ],
            "text/plain": [
              "                                   0    1\n",
              "mstore sha3                    35088  863\n",
              "mstore mstore sha3             23087  431\n",
              "invalid                        22687  709\n",
              "invalid jumpdest               22600  702\n",
              "jumpi invalid                  22277  702\n",
              "jumpi invalid jumpdest         22277  702\n",
              "return jumpdest callvalue      20931  655\n",
              "iszero jumpi invalid           20672  629\n",
              "iszero jumpi invalid jumpdest  20672  629\n",
              "sha3 sload                     20297  469"
            ]
          },
          "metadata": {
            "tags": []
          },
          "execution_count": 19
        }
      ]
    },
    {
      "cell_type": "code",
      "metadata": {
        "colab": {
          "base_uri": "https://localhost:8080/",
          "height": 359
        },
        "id": "YDiPPHpZEZyb",
        "outputId": "5b5327c5-958e-47f2-c25e-46cb115bdf67"
      },
      "source": [
        "most_common_words.sort_values(by=[1], ascending=False).head(10)\r\n"
      ],
      "execution_count": null,
      "outputs": [
        {
          "output_type": "execute_result",
          "data": {
            "text/html": [
              "<div>\n",
              "<style scoped>\n",
              "    .dataframe tbody tr th:only-of-type {\n",
              "        vertical-align: middle;\n",
              "    }\n",
              "\n",
              "    .dataframe tbody tr th {\n",
              "        vertical-align: top;\n",
              "    }\n",
              "\n",
              "    .dataframe thead th {\n",
              "        text-align: right;\n",
              "    }\n",
              "</style>\n",
              "<table border=\"1\" class=\"dataframe\">\n",
              "  <thead>\n",
              "    <tr style=\"text-align: right;\">\n",
              "      <th></th>\n",
              "      <th>0</th>\n",
              "      <th>1</th>\n",
              "    </tr>\n",
              "  </thead>\n",
              "  <tbody>\n",
              "    <tr>\n",
              "      <th>lt iszero</th>\n",
              "      <td>15902</td>\n",
              "      <td>1090</td>\n",
              "    </tr>\n",
              "    <tr>\n",
              "      <th>lt iszero jumpi</th>\n",
              "      <td>12005</td>\n",
              "      <td>959</td>\n",
              "    </tr>\n",
              "    <tr>\n",
              "      <th>mstore sha3</th>\n",
              "      <td>35088</td>\n",
              "      <td>863</td>\n",
              "    </tr>\n",
              "    <tr>\n",
              "      <th>add sload</th>\n",
              "      <td>10952</td>\n",
              "      <td>754</td>\n",
              "    </tr>\n",
              "    <tr>\n",
              "      <th>sload exp sub</th>\n",
              "      <td>12068</td>\n",
              "      <td>748</td>\n",
              "    </tr>\n",
              "    <tr>\n",
              "      <th>invalid</th>\n",
              "      <td>22687</td>\n",
              "      <td>709</td>\n",
              "    </tr>\n",
              "    <tr>\n",
              "      <th>invalid jumpdest</th>\n",
              "      <td>22600</td>\n",
              "      <td>702</td>\n",
              "    </tr>\n",
              "    <tr>\n",
              "      <th>jumpi invalid jumpdest</th>\n",
              "      <td>22277</td>\n",
              "      <td>702</td>\n",
              "    </tr>\n",
              "    <tr>\n",
              "      <th>jumpi invalid</th>\n",
              "      <td>22277</td>\n",
              "      <td>702</td>\n",
              "    </tr>\n",
              "    <tr>\n",
              "      <th>pop sload</th>\n",
              "      <td>9953</td>\n",
              "      <td>690</td>\n",
              "    </tr>\n",
              "  </tbody>\n",
              "</table>\n",
              "</div>"
            ],
            "text/plain": [
              "                            0     1\n",
              "lt iszero               15902  1090\n",
              "lt iszero jumpi         12005   959\n",
              "mstore sha3             35088   863\n",
              "add sload               10952   754\n",
              "sload exp sub           12068   748\n",
              "invalid                 22687   709\n",
              "invalid jumpdest        22600   702\n",
              "jumpi invalid jumpdest  22277   702\n",
              "jumpi invalid           22277   702\n",
              "pop sload                9953   690"
            ]
          },
          "metadata": {
            "tags": []
          },
          "execution_count": 21
        }
      ]
    },
    {
      "cell_type": "markdown",
      "metadata": {
        "id": "sbJ_mWmk__wm"
      },
      "source": [
        "#Imbalance Class"
      ]
    },
    {
      "cell_type": "code",
      "metadata": {
        "colab": {
          "base_uri": "https://localhost:8080/",
          "height": 329
        },
        "id": "vsB8vu7Vtwhz",
        "outputId": "c57ea642-0ebc-4bdd-aa6f-328d59861323"
      },
      "source": [
        "print('Percentage of ponzi: {0}%'.format(round(100 * data['flag'].sum() / len(data['flag']), 2)))\r\n",
        "plt.hist(data['flag'], bins=3, weights=np.ones(len(data['flag'])) / len(data['flag']))\r\n",
        "plt.xlabel('flag')\r\n",
        "plt.ylabel('Frequency')\r\n",
        "plt.title('Ponzi Schemes')"
      ],
      "execution_count": null,
      "outputs": [
        {
          "output_type": "stream",
          "text": [
            "Percentage of ponzi: 4.92%\n"
          ],
          "name": "stdout"
        },
        {
          "output_type": "execute_result",
          "data": {
            "text/plain": [
              "Text(0.5, 1.0, 'Ponzi Schemes')"
            ]
          },
          "metadata": {
            "tags": []
          },
          "execution_count": 22
        },
        {
          "output_type": "display_data",
          "data": {
            "image/png": "[encoded data removed]",
            "text/plain": [
              "<Figure size 432x288 with 1 Axes>"
            ]
          },
          "metadata": {
            "tags": [],
            "needs_background": "light"
          }
        }
      ]
    },
    {
      "cell_type": "markdown",
      "metadata": {
        "id": "d9ZuUmvrPB75"
      },
      "source": [
        "#Set the train Data"
      ]
    },
    {
      "cell_type": "code",
      "metadata": {
        "id": "Y0Qq7Q5wHteR"
      },
      "source": [
        "from sklearn.model_selection import train_test_split\r\n",
        "\r\n",
        "code=data[\"Opcode\"].values\r\n",
        "y=data[\"flag\"].values\r\n",
        "train, test, y_train, y_test = train_test_split(code, y, test_size=0.4)\r\n",
        "\r\n",
        "vectorizer = CountVectorizer(ngram_range=(1, 4))\r\n",
        "vectorizer.fit(train)\r\n",
        "\r\n",
        "X_train = vectorizer.transform(train)\r\n",
        "X_test  = vectorizer.transform(test)\r\n"
      ],
      "execution_count": null,
      "outputs": []
    },
    {
      "cell_type": "code",
      "metadata": {
        "colab": {
          "base_uri": "https://localhost:8080/"
        },
        "id": "BmyNYSfgH9fa",
        "outputId": "dcbee8fc-f884-4146-fc7a-9a67d9045f66"
      },
      "source": [
        "X_train\r\n"
      ],
      "execution_count": null,
      "outputs": [
        {
          "output_type": "execute_result",
          "data": {
            "text/plain": [
              "<1402x36646 sparse matrix of type '<class 'numpy.int64'>'\n",
              "\twith 1148880 stored elements in Compressed Sparse Row format>"
            ]
          },
          "metadata": {
            "tags": []
          },
          "execution_count": 24
        }
      ]
    },
    {
      "cell_type": "markdown",
      "metadata": {
        "id": "knu_gvHSPILv"
      },
      "source": [
        "#Tune parameters for logistic regression"
      ]
    },
    {
      "cell_type": "code",
      "metadata": {
        "colab": {
          "base_uri": "https://localhost:8080/",
          "height": 313
        },
        "id": "Cq_dSTW5pOO7",
        "outputId": "70c8850f-bb47-45b8-da92-35def7195985"
      },
      "source": [
        "import numpy as np\r\n",
        "from sklearn.linear_model import LogisticRegression\r\n",
        "from sklearn.metrics import confusion_matrix, classification_report\r\n",
        "from mlxtend.plotting import plot_decision_regions, plot_confusion_matrix\r\n",
        "from matplotlib import pyplot as plt\r\n",
        "\r\n",
        "from sklearn.model_selection import GridSearchCV\r\n",
        "\r\n",
        "weights = np.linspace(0.1, 0.9, 30)\r\n",
        "\r\n",
        "gsc = GridSearchCV(\r\n",
        "    estimator=LogisticRegression(max_iter=10000),\r\n",
        "    param_grid={\r\n",
        "        'class_weight': [{0: x, 1: 1.0-x} for x in weights]\r\n",
        "        },\r\n",
        "    scoring='f1',\r\n",
        "    cv=3\r\n",
        ")\r\n",
        "grid_result = gsc.fit(X_train, y_train)\r\n",
        "\r\n",
        "print(\"Best parameters : %s\" % grid_result.best_params_)\r\n",
        "\r\n",
        "# Plot the weights vs f1 score\r\n",
        "dataz = pd.DataFrame({ 'score': grid_result.cv_results_['mean_test_score'],\r\n",
        "                       'weight': weights })\r\n",
        "dataz.plot(x='weight')\r\n"
      ],
      "execution_count": null,
      "outputs": [
        {
          "output_type": "stream",
          "text": [
            "Best parameters : {'class_weight': {0: 0.7344827586206897, 1: 0.2655172413793103}}\n"
          ],
          "name": "stdout"
        },
        {
          "output_type": "execute_result",
          "data": {
            "text/plain": [
              "<matplotlib.axes._subplots.AxesSubplot at 0x7f97d19f6c50>"
            ]
          },
          "metadata": {
            "tags": []
          },
          "execution_count": 25
        },
        {
          "output_type": "display_data",
          "data": {
            "image/png": "[encoded data removed]",
            "text/plain": [
              "<Figure size 432x288 with 1 Axes>"
            ]
          },
          "metadata": {
            "tags": [],
            "needs_background": "light"
          }
        }
      ]
    },
    {
      "cell_type": "markdown",
      "metadata": {
        "id": "2eISDU5wPRHI"
      },
      "source": [
        "#Logistic regression "
      ]
    },
    {
      "cell_type": "code",
      "metadata": {
        "colab": {
          "base_uri": "https://localhost:8080/",
          "height": 466
        },
        "id": "JB3Am1fMqWMN",
        "outputId": "b7b7c243-8f87-4801-fc86-779e9a828eb2"
      },
      "source": [
        "lr = LogisticRegression(**grid_result.best_params_, max_iter=10000)\r\n",
        "\r\n",
        "# Fit..\r\n",
        "lr.fit(X_train, y_train)\r\n",
        "\r\n",
        "# Predict..\r\n",
        "y_pred = lr.predict(X_test)\r\n",
        "\r\n",
        "# Evaluate the model\r\n",
        "print(classification_report(y_test, y_pred))\r\n",
        "plot_confusion_matrix(confusion_matrix(y_test, y_pred))\r\n"
      ],
      "execution_count": null,
      "outputs": [
        {
          "output_type": "stream",
          "text": [
            "              precision    recall  f1-score   support\n",
            "\n",
            "           0       0.99      0.99      0.99       886\n",
            "           1       0.74      0.76      0.75        49\n",
            "\n",
            "    accuracy                           0.97       935\n",
            "   macro avg       0.86      0.87      0.87       935\n",
            "weighted avg       0.97      0.97      0.97       935\n",
            "\n"
          ],
          "name": "stdout"
        },
        {
          "output_type": "execute_result",
          "data": {
            "text/plain": [
              "(<Figure size 432x288 with 1 Axes>,\n",
              " <matplotlib.axes._subplots.AxesSubplot at 0x7f97d1dee278>)"
            ]
          },
          "metadata": {
            "tags": []
          },
          "execution_count": 26
        },
        {
          "output_type": "display_data",
          "data": {
            "image/png": "[encoded data removed]",
            "text/plain": [
              "<Figure size 432x288 with 1 Axes>"
            ]
          },
          "metadata": {
            "tags": [],
            "needs_background": "light"
          }
        }
      ]
    },
    {
      "cell_type": "markdown",
      "metadata": {
        "id": "V7iNgQGsVLAI"
      },
      "source": [
        "#Classifiers testing\r\n",
        "Use different classifiers to find what is the best for our data."
      ]
    },
    {
      "cell_type": "code",
      "metadata": {
        "id": "2vzyIaZokLoA"
      },
      "source": [
        "from collections import Counter\r\n",
        "from sklearn.model_selection import train_test_split\r\n",
        "from sklearn.feature_extraction.text import TfidfVectorizer, CountVectorizer\r\n",
        "from sklearn.naive_bayes import MultinomialNB\r\n",
        "from sklearn.naive_bayes import GaussianNB\r\n",
        "from sklearn.naive_bayes import BernoulliNB\r\n",
        "from sklearn.svm import SVC\r\n",
        "from sklearn.neural_network import MLPClassifier\r\n",
        "from sklearn.ensemble import AdaBoostClassifier\r\n",
        "from sklearn.tree import DecisionTreeClassifier\r\n",
        "from sklearn.ensemble import RandomForestClassifier\r\n",
        "from sklearn.ensemble import GradientBoostingClassifier\r\n",
        "from sklearn.linear_model import LogisticRegression\r\n",
        "from sklearn.model_selection import GridSearchCV\r\n",
        "from sklearn.metrics import f1_score, confusion_matrix\r\n",
        "from xgboost import XGBClassifier\r\n"
      ],
      "execution_count": null,
      "outputs": []
    },
    {
      "cell_type": "code",
      "metadata": {
        "id": "VRB84c97k3qT"
      },
      "source": [
        "clfs = {\r\n",
        "    'XGB':XGBClassifier(),\r\n",
        "    'svm1': SVC(kernel='linear'),\r\n",
        "    'mlp1': MLPClassifier(),\r\n",
        "    'mlp2': MLPClassifier(hidden_layer_sizes=[100, 100]),\r\n",
        "    'ada': AdaBoostClassifier(),\r\n",
        "    'dtc': DecisionTreeClassifier(),\r\n",
        "    'rfc': RandomForestClassifier(),\r\n",
        "    'gbc': GradientBoostingClassifier(),\r\n",
        "    'lr': LogisticRegression(**grid_result.best_params_, max_iter=10000)\r\n",
        "\r\n",
        "\r\n",
        "}\r\n"
      ],
      "execution_count": null,
      "outputs": []
    },
    {
      "cell_type": "code",
      "metadata": {
        "colab": {
          "base_uri": "https://localhost:8080/",
          "height": 1000
        },
        "id": "WQAyfYcsk6R4",
        "outputId": "7b2fbcf6-b94a-4f47-8ca0-aaa20f919b13"
      },
      "source": [
        "f1_scores = dict()\r\n",
        "for clf_name in clfs:\r\n",
        "    print(clf_name)\r\n",
        "    clf = clfs[clf_name]\r\n",
        "    clf.fit(X_train, y_train)\r\n",
        "    y_pred = clf.predict(X_test)\r\n",
        "    f1_scores[clf_name] = f1_score(y_test, y_pred)\r\n",
        "    # Evaluate the model\r\n",
        "    print(classification_report(y_test, y_pred))\r\n",
        "    plot_confusion_matrix(confusion_matrix(y_test, y_pred))\r\n",
        "\r\n",
        "\r\n",
        "\r\n",
        "\r\n"
      ],
      "execution_count": null,
      "outputs": [
        {
          "output_type": "stream",
          "text": [
            "XGB\n",
            "              precision    recall  f1-score   support\n",
            "\n",
            "           0       0.98      1.00      0.99       886\n",
            "           1       0.94      0.69      0.80        49\n",
            "\n",
            "    accuracy                           0.98       935\n",
            "   macro avg       0.96      0.85      0.90       935\n",
            "weighted avg       0.98      0.98      0.98       935\n",
            "\n",
            "svm1\n",
            "              precision    recall  f1-score   support\n",
            "\n",
            "           0       0.99      0.98      0.98       886\n",
            "           1       0.67      0.78      0.72        49\n",
            "\n",
            "    accuracy                           0.97       935\n",
            "   macro avg       0.83      0.88      0.85       935\n",
            "weighted avg       0.97      0.97      0.97       935\n",
            "\n",
            "mlp1\n",
            "              precision    recall  f1-score   support\n",
            "\n",
            "           0       0.99      0.99      0.99       886\n",
            "           1       0.84      0.76      0.80        49\n",
            "\n",
            "    accuracy                           0.98       935\n",
            "   macro avg       0.91      0.87      0.89       935\n",
            "weighted avg       0.98      0.98      0.98       935\n",
            "\n",
            "mlp2\n",
            "              precision    recall  f1-score   support\n",
            "\n",
            "           0       0.99      0.99      0.99       886\n",
            "           1       0.84      0.78      0.81        49\n",
            "\n",
            "    accuracy                           0.98       935\n",
            "   macro avg       0.92      0.88      0.90       935\n",
            "weighted avg       0.98      0.98      0.98       935\n",
            "\n",
            "ada\n",
            "              precision    recall  f1-score   support\n",
            "\n",
            "           0       0.98      1.00      0.99       886\n",
            "           1       0.89      0.65      0.75        49\n",
            "\n",
            "    accuracy                           0.98       935\n",
            "   macro avg       0.93      0.82      0.87       935\n",
            "weighted avg       0.98      0.98      0.98       935\n",
            "\n",
            "dtc\n",
            "              precision    recall  f1-score   support\n",
            "\n",
            "           0       0.98      0.99      0.98       886\n",
            "           1       0.75      0.67      0.71        49\n",
            "\n",
            "    accuracy                           0.97       935\n",
            "   macro avg       0.87      0.83      0.85       935\n",
            "weighted avg       0.97      0.97      0.97       935\n",
            "\n",
            "rfc\n",
            "              precision    recall  f1-score   support\n",
            "\n",
            "           0       0.98      1.00      0.99       886\n",
            "           1       1.00      0.65      0.79        49\n",
            "\n",
            "    accuracy                           0.98       935\n",
            "   macro avg       0.99      0.83      0.89       935\n",
            "weighted avg       0.98      0.98      0.98       935\n",
            "\n",
            "gbc\n",
            "              precision    recall  f1-score   support\n",
            "\n",
            "           0       0.98      1.00      0.99       886\n",
            "           1       0.89      0.63      0.74        49\n",
            "\n",
            "    accuracy                           0.98       935\n",
            "   macro avg       0.93      0.81      0.86       935\n",
            "weighted avg       0.98      0.98      0.97       935\n",
            "\n",
            "lr\n",
            "              precision    recall  f1-score   support\n",
            "\n",
            "           0       0.99      0.99      0.99       886\n",
            "           1       0.74      0.76      0.75        49\n",
            "\n",
            "    accuracy                           0.97       935\n",
            "   macro avg       0.86      0.87      0.87       935\n",
            "weighted avg       0.97      0.97      0.97       935\n",
            "\n"
          ],
          "name": "stdout"
        },
        {
          "output_type": "display_data",
          "data": {
            "image/png": "[encoded data removed]",
            "text/plain": [
              "<Figure size 432x288 with 1 Axes>"
            ]
          },
          "metadata": {
            "tags": [],
            "needs_background": "light"
          }
        },
        {
          "output_type": "display_data",
          "data": {
            "image/png": "[encoded data removed]",
            "text/plain": [
              "<Figure size 432x288 with 1 Axes>"
            ]
          },
          "metadata": {
            "tags": [],
            "needs_background": "light"
          }
        },
        {
          "output_type": "display_data",
          "data": {
            "image/png": "[encoded data removed]",
            "text/plain": [
              "<Figure size 432x288 with 1 Axes>"
            ]
          },
          "metadata": {
            "tags": [],
            "needs_background": "light"
          }
        },
        {
          "output_type": "display_data",
          "data": {
            "image/png": "[encoded data removed]",
            "text/plain": [
              "<Figure size 432x288 with 1 Axes>"
            ]
          },
          "metadata": {
            "tags": [],
            "needs_background": "light"
          }
        },
        {
          "output_type": "display_data",
          "data": {
            "image/png": "[encoded data removed]",
            "text/plain": [
              "<Figure size 432x288 with 1 Axes>"
            ]
          },
          "metadata": {
            "tags": [],
            "needs_background": "light"
          }
        },
        {
          "output_type": "display_data",
          "data": {
            "image/png": "[encoded data removed]",
            "text/plain": [
              "<Figure size 432x288 with 1 Axes>"
            ]
          },
          "metadata": {
            "tags": [],
            "needs_background": "light"
          }
        },
        {
          "output_type": "display_data",
          "data": {
            "image/png": "[encoded data removed]",
            "text/plain": [
              "<Figure size 432x288 with 1 Axes>"
            ]
          },
          "metadata": {
            "tags": [],
            "needs_background": "light"
          }
        },
        {
          "output_type": "display_data",
          "data": {
            "image/png": "[encoded data removed]",
            "text/plain": [
              "<Figure size 432x288 with 1 Axes>"
            ]
          },
          "metadata": {
            "tags": [],
            "needs_background": "light"
          }
        },
        {
          "output_type": "display_data",
          "data": {
            "image/png": "[encoded data removed]",
            "text/plain": [
              "<Figure size 432x288 with 1 Axes>"
            ]
          },
          "metadata": {
            "tags": [],
            "needs_background": "light"
          }
        }
      ]
    },
    {
      "cell_type": "code",
      "metadata": {
        "colab": {
          "base_uri": "https://localhost:8080/"
        },
        "id": "J-bAEDg9lAMr",
        "outputId": "ead0bea3-578d-4178-827c-72b119c32317"
      },
      "source": [
        "f1_scores"
      ],
      "execution_count": null,
      "outputs": [
        {
          "output_type": "execute_result",
          "data": {
            "text/plain": [
              "{'XGB': 0.7999999999999999,\n",
              " 'ada': 0.7529411764705882,\n",
              " 'dtc': 0.7096774193548386,\n",
              " 'gbc': 0.7380952380952381,\n",
              " 'lr': 0.7474747474747474,\n",
              " 'mlp1': 0.7956989247311828,\n",
              " 'mlp2': 0.8085106382978723,\n",
              " 'rfc': 0.7901234567901235,\n",
              " 'svm1': 0.7169811320754716}"
            ]
          },
          "metadata": {
            "tags": []
          },
          "execution_count": 60
        }
      ]
    }
  ]
}